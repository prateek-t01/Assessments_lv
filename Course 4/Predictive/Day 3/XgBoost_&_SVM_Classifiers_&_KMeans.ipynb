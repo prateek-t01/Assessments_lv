{
  "nbformat": 4,
  "nbformat_minor": 0,
  "metadata": {
    "colab": {
      "provenance": []
    },
    "kernelspec": {
      "name": "python3",
      "display_name": "Python 3"
    },
    "language_info": {
      "name": "python"
    }
  },
  "cells": [
    {
      "cell_type": "code",
      "execution_count": 1,
      "metadata": {
        "colab": {
          "base_uri": "https://localhost:8080/"
        },
        "id": "jKKPNlWUg57v",
        "outputId": "669c3949-d80d-4301-ca6f-ee45232adb9d"
      },
      "outputs": [
        {
          "output_type": "stream",
          "name": "stdout",
          "text": [
            "Model Prediction Accuracy: 75.26% LogisticRegression\n",
            "Model Run Time  0.030817031860351562 seconds ---\n",
            "\n",
            "\n",
            "Model Prediction Accuracy: 80.86% KNN\n",
            "Model Run Time  0.04906129837036133 seconds ---\n",
            "\n",
            "\n",
            "Model Prediction Accuracy: 75.91% SVM\n",
            "Model Run Time  0.039617300033569336 seconds ---\n",
            "\n",
            "\n",
            "Model Prediction Accuracy: 79.95% AdaBoost\n",
            "Model Run Time  0.13284564018249512 seconds ---\n",
            "\n",
            "\n",
            "Model Prediction Accuracy: 74.74% XGB\n",
            "Model Run Time  0.09118461608886719 seconds ---\n",
            "\n",
            "\n"
          ]
        }
      ],
      "source": [
        "##~~~~~~~~~~~~~~~~~~~~~~~~~~~~~~~\n",
        "##\n",
        "## XGBOOST - Compare Model Outcome and Speed\n",
        "## Implement Different Models and Compare Model Outcomes with XGBClassifier\n",
        "## By Jothi\n",
        "##\n",
        "##~~~~~~~~~~~~~~~~~~~~~~~~~~~~~~~\n",
        "import pandas as pd\n",
        "import warnings\n",
        "warnings.filterwarnings('ignore')\n",
        "\n",
        "from numpy import loadtxt\n",
        "from xgboost import XGBClassifier\n",
        "from sklearn.model_selection import train_test_split\n",
        "from sklearn.metrics import accuracy_score\n",
        "\n",
        "from sklearn.linear_model import LogisticRegression\n",
        "from sklearn.neighbors import KNeighborsClassifier\n",
        "from sklearn.svm import SVC\n",
        "from sklearn.ensemble import AdaBoostClassifier\n",
        "\n",
        "vAR_model_data =  pd.read_csv(\"/content/DSAI-LVA-Healthy_YES_NO.csv\")\n",
        "vAR_model_data.head() # Top 5 rows\n",
        "\n",
        "X = vAR_model_data.drop(['Healthy_YES_NO'],axis=1) ## Remove Target/Labels from the data set.\n",
        "y = vAR_model_data['Healthy_YES_NO'] ## Target/Labels\n",
        "\n",
        "##\n",
        "## Implement Different Models and Compare Model Outcomes with XGBClassifier\n",
        "##\n",
        "vAR_model_name = []\n",
        "vAR_model_name.append(('LogisticRegression', LogisticRegression()))\n",
        "vAR_model_name.append(('KNN', KNeighborsClassifier()))\n",
        "vAR_model_name.append(('SVM', SVC()))\n",
        "vAR_model_name.append(('AdaBoost', AdaBoostClassifier()))\n",
        "vAR_model_name.append(('XGB',XGBClassifier(eta=0.01,gamma=10))) #eta = 0.01,gamma = 10\n",
        "# vAR_model_name.append(('XGB',XGBClassifier())) #eta = 0.01,gamma = 10\n",
        "\n",
        "import time ## Compare model runtime - model time taken\n",
        "\n",
        "##\n",
        "## All models should be fitted and predicted\n",
        "##\n",
        "\n",
        "for name, model in vAR_model_name:\n",
        "    start_time = time.time()\n",
        "    model.fit(X, y)\n",
        "    y_pred = model.predict(X)\n",
        "    vAR_model_predictions = [round(value) for value in y_pred]\n",
        "\n",
        "##\n",
        "## The accuracy and runtime of all the models should be compared\n",
        "##\n",
        "\n",
        "    accuracy = accuracy_score(y,vAR_model_predictions)\n",
        "    print(\"Model Prediction Accuracy: %.2f%%\" % (accuracy * 100.0),name)\n",
        "    print(\"Model Run Time  %s seconds ---\" % (time.time() - start_time))\n",
        "    print(\"\\n\")"
      ]
    },
    {
      "cell_type": "code",
      "source": [
        "## ~~~~~~~~~~~~~~~~~~~~~~~~~~~~~~\n",
        "##\n",
        "## Using multiple classifiers for the same problem on the same data\n",
        "## Decision Tree, Random Forest, and KNeighborsClassifier\n",
        "## ~~~~~~~~~~~~~~~~~~~~~~~~~~~~~~\n",
        "from sklearn import datasets\n",
        "iris = datasets.load_iris()\n",
        "X= iris.data\n",
        "y=iris.target\n",
        "from sklearn.model_selection import train_test_split\n",
        "X_train, X_test, y_train, y_test = train_test_split(X,y, test_size = .5)\n",
        "# ~~~~~~~~~~~~~~~~~~~~~~~~~~~~~~~\n",
        "## Model #1 -  DecisionTree\n",
        "# ~~~~~~~~~~~~~~~~~~~~~~~~~~~~~~~\n",
        "#from sklearn import tree\n",
        "#vAR_classifier = tree.DecisionTreeClassifier()\n",
        "# ~~~~~~~~~~~~~~~~~~~~~~~~~~~~~~~\n",
        "## Model #2 -  KNeighborsClassifier\n",
        "# ~~~~~~~~~~~~~~~~~~~~~~~~~~~~~~~\n",
        "#from sklearn.neighbors import KNeighborsClassifier\n",
        "#vAR_classifier = KNeighborsClassifier()\n",
        "# ~~~~~~~~~~~~~~~~~~~~~~~~~~~~~~~\n",
        "## Model #3 -  RandomForestClassifier\n",
        "# ~~~~~~~~~~~~~~~~~~~~~~~~~~~~~~~\n",
        "from sklearn.ensemble import RandomForestClassifier\n",
        "vAR_classifier = RandomForestClassifier()\n",
        "vAR_classifier.fit(X_train,y_train)\n",
        "vAR_predictions=vAR_classifier.predict(X_test)\n",
        "#print(vAR_predictions)\n",
        "from sklearn.metrics import accuracy_score\n",
        "vAR_model_accuracy = accuracy_score(vAR_predictions,y_test)\n",
        "print(vAR_model_accuracy)"
      ],
      "metadata": {
        "colab": {
          "base_uri": "https://localhost:8080/"
        },
        "id": "R4Wl8FQBhhkd",
        "outputId": "3021fba4-59cc-466f-f9f0-a9059d1cd5df"
      },
      "execution_count": 2,
      "outputs": [
        {
          "output_type": "stream",
          "name": "stdout",
          "text": [
            "0.9466666666666667\n"
          ]
        }
      ]
    },
    {
      "cell_type": "code",
      "source": [],
      "metadata": {
        "id": "2yQywC1xhhhS"
      },
      "execution_count": null,
      "outputs": []
    },
    {
      "cell_type": "code",
      "source": [],
      "metadata": {
        "id": "FPfszeB_hCDs"
      },
      "execution_count": null,
      "outputs": []
    },
    {
      "cell_type": "code",
      "source": [],
      "metadata": {
        "id": "VcHRROrb3xog"
      },
      "execution_count": null,
      "outputs": []
    },
    {
      "cell_type": "code",
      "source": [
        "import numpy as np\n",
        "import pandas as pd\n",
        "from sklearn.model_selection import train_test_split\n",
        "from xgboost import XGBClassifier\n",
        "from sklearn.tree import DecisionTreeClassifier\n",
        "from sklearn.metrics import accuracy_score\n",
        "\n",
        "# Create a sample dataset with missing values\n",
        "data = {'feature1': [1, 2, np.nan, 4, 5],\n",
        "        'feature2': [3, np.nan, 5, 7, 9],\n",
        "        'target': [0, 1, 0, 1, 1]}\n",
        "df = pd.DataFrame(data)\n",
        "\n",
        "# Split the data into features and target\n",
        "X = df.drop('target', axis=1)\n",
        "y = df['target']\n",
        "\n",
        "# Split the data into training and testing sets\n",
        "X_train, X_test, y_train, y_test = train_test_split(X, y, test_size=0.2, random_state=42)\n",
        "\n",
        "# Create an XGBoost classifier model\n",
        "model = XGBClassifier()\n",
        "# model = DecisionTreeClassifier()\n",
        "\n",
        "model.fit(X_train,y_train)\n",
        "\n",
        "y_pred = model.predict(X_test)\n",
        "\n",
        "print(y_pred)\n",
        "result = accuracy_score(y_test,y_pred)\n",
        "print(result)\n",
        "\n",
        "# Perform cross-validation\n",
        "# scores = cross_val_score(model, X, y, cv=2)\n",
        "# print(\"Cross-Validation Scores:\", scores)\n",
        "# print(\"Mean Accuracy:\", np.mean(scores))\n"
      ],
      "metadata": {
        "colab": {
          "base_uri": "https://localhost:8080/"
        },
        "id": "X6S_zVDI37j5",
        "outputId": "d43cae29-9963-4078-d7c9-206e427ffb88"
      },
      "execution_count": 5,
      "outputs": [
        {
          "output_type": "stream",
          "name": "stdout",
          "text": [
            "[0]\n",
            "0.0\n"
          ]
        }
      ]
    },
    {
      "cell_type": "code",
      "source": [],
      "metadata": {
        "id": "QobZnB6u48dR"
      },
      "execution_count": null,
      "outputs": []
    },
    {
      "cell_type": "code",
      "source": [],
      "metadata": {
        "id": "wxitq01AX8n5"
      },
      "execution_count": null,
      "outputs": []
    },
    {
      "cell_type": "code",
      "source": [],
      "metadata": {
        "id": "4sBZo-MpX8kd"
      },
      "execution_count": null,
      "outputs": []
    },
    {
      "cell_type": "code",
      "source": [],
      "metadata": {
        "id": "62oo-odCX8iG"
      },
      "execution_count": null,
      "outputs": []
    },
    {
      "cell_type": "code",
      "source": [],
      "metadata": {
        "id": "SosfAngJX8f0"
      },
      "execution_count": null,
      "outputs": []
    },
    {
      "cell_type": "code",
      "source": [],
      "metadata": {
        "id": "0WYqfDALX8di"
      },
      "execution_count": null,
      "outputs": []
    },
    {
      "cell_type": "code",
      "source": [],
      "metadata": {
        "id": "cLgYDIeKX8bL"
      },
      "execution_count": null,
      "outputs": []
    },
    {
      "cell_type": "code",
      "source": [],
      "metadata": {
        "id": "z3tV5DMuX8Yu"
      },
      "execution_count": null,
      "outputs": []
    },
    {
      "cell_type": "code",
      "source": [
        "##~~~~~~~~~~~~~~~~~~~~~~~~~~~~~~~\n",
        "## K Menas - The Clustering Algorithm\n",
        "## Implement the Elbow Method and MinMaxScaler()\n",
        "## By Jothi\n",
        "##~~~~~~~~~~~~~~~~~~~~~~~~~~~~~~~\n",
        "import warnings\n",
        "warnings.filterwarnings(\"ignore\")\n",
        "from sklearn.cluster import KMeans\n",
        "import pandas as pd\n",
        "from sklearn.preprocessing import MinMaxScaler\n",
        "from matplotlib import pyplot as plt\n",
        "%matplotlib inline\n",
        "df = pd.read_csv(\"/content/DSAI-LVA-Customer-Income-KMeans.csv\")\n",
        "print(df.head())\n",
        "\n",
        "#plt.scatter(df.AgeGroup,df['Spend'])\n",
        "#plt.xlabel('AgeGroup')\n",
        "#plt.ylabel('Spend')\n",
        "\n",
        "##\n",
        "## km.fit_predict\n",
        "## Fit part of fit_predict computes the centroids of clusters based on the input data.\n",
        "## Predict Cluster Indices: The predicted part assigns each input data point to the nearest cluster center.\n",
        "##\n",
        "km = KMeans(n_clusters=3)\n",
        "y_predicted = km.fit_predict(df[['AgeGroup','Spend']])\n",
        "print(y_predicted)\n",
        "\n",
        "df['cluster']=y_predicted\n",
        "print(df.head())\n",
        "\n",
        "##\n",
        "## km.cluster_centers_\n",
        "## Returns a two-dimensional Numpy array which consists of coordinates of centres for the three clusters\n",
        "##\n",
        "print(km.cluster_centers_)\n",
        "\n",
        "\n",
        "df1 = df[df.cluster==0]\n",
        "df2 = df[df.cluster==1]\n",
        "df3 = df[df.cluster==2]\n",
        "plt.scatter(df1.AgeGroup,df1['Spend'],color='green')\n",
        "plt.scatter(df2.AgeGroup,df2['Spend'],color='red')\n",
        "plt.scatter(df3.AgeGroup,df3['Spend'],color='black')\n",
        "plt.scatter(km.cluster_centers_[:,0],km.cluster_centers_[:,1],color='purple',marker='*',label='centroid')\n",
        "plt.xlabel('AgeGroup')\n",
        "plt.ylabel('Spend')\n",
        "plt.legend()\n",
        "\n"
      ],
      "metadata": {
        "colab": {
          "base_uri": "https://localhost:8080/",
          "height": 759
        },
        "id": "wMAOLiWFX8Wd",
        "outputId": "a92b58d3-9b28-403b-869a-a2b258a4f3fb"
      },
      "execution_count": 4,
      "outputs": [
        {
          "output_type": "stream",
          "name": "stdout",
          "text": [
            "  CustomerName  AgeGroup   Spend\n",
            "0         John        27   70000\n",
            "1         Mike        29   90000\n",
            "2         Lisa        29   61000\n",
            "3         Adam        28   60000\n",
            "4          Jim        42  150000\n",
            "[2 2 1 1 0 0 0 0 0 0 0 1 1 1 1 1 1 1 1 2 2 1]\n",
            "  CustomerName  AgeGroup   Spend  cluster\n",
            "0         John        27   70000        2\n",
            "1         Mike        29   90000        2\n",
            "2         Lisa        29   61000        1\n",
            "3         Adam        28   60000        1\n",
            "4          Jim        42  150000        0\n",
            "[[3.82857143e+01 1.50000000e+05]\n",
            " [3.29090909e+01 5.61363636e+04]\n",
            " [3.40000000e+01 8.05000000e+04]]\n"
          ]
        },
        {
          "output_type": "execute_result",
          "data": {
            "text/plain": [
              "<matplotlib.legend.Legend at 0x7f561205dd80>"
            ]
          },
          "metadata": {},
          "execution_count": 4
        },
        {
          "output_type": "display_data",
          "data": {
            "text/plain": [
              "<Figure size 640x480 with 1 Axes>"
            ],
            "image/png": "[encoded data removed]"
          },
          "metadata": {}
        }
      ]
    },
    {
      "cell_type": "code",
      "source": [],
      "metadata": {
        "id": "UGdKTEBtYK2v"
      },
      "execution_count": 1,
      "outputs": []
    },
    {
      "cell_type": "code",
      "source": [
        "#\n",
        "# We are using \"Feature Scaling Techniques\" since the clusters are not formed correctly *****\n",
        "# MinMaxScaler() -  Preprocessing the featuers using min max scaler\n",
        "#  In min-max, you subtract the minimum value in the dataset from all the values and then\n",
        "#     divide this by the dataset's range (maximum-minimum).\n",
        "#\n",
        "\n",
        "scaler = MinMaxScaler()\n",
        "scaler.fit(df[['Spend']])\n",
        "df['Spend'] = scaler.transform(df[['Spend']])\n",
        "scaler.fit(df[['AgeGroup']])\n",
        "df['AgeGroup'] = scaler.transform(df[['AgeGroup']])\n",
        "print(df.head())\n",
        "plt.scatter(df.AgeGroup,df['Spend'])\n",
        "\n",
        "\n",
        "km = KMeans(n_clusters=3)\n",
        "y_predicted = km.fit_predict(df[['AgeGroup','Spend']])\n",
        "y_predicted\n",
        "df['cluster']=y_predicted\n",
        "df.head(25)\n",
        "print(km.cluster_centers_)\n",
        "\n",
        "df1 = df[df.cluster==0]\n",
        "df2 = df[df.cluster==1]\n",
        "df3 = df[df.cluster==2]\n",
        "plt.scatter(df1.AgeGroup,df1['Spend'],color='green')\n",
        "plt.scatter(df2.AgeGroup,df2['Spend'],color='red')\n",
        "plt.scatter(df3.AgeGroup,df3['Spend'],color='black')\n",
        "plt.scatter(km.cluster_centers_[:,0],km.cluster_centers_[:,1],color='purple',marker='*',label='centroid')\n",
        "plt.xlabel('AgeGroup')\n",
        "plt.ylabel('Spend')\n",
        "plt.legend()\n",
        "\n"
      ],
      "metadata": {
        "colab": {
          "base_uri": "https://localhost:8080/",
          "height": 631
        },
        "id": "I5QUT05eYsMq",
        "outputId": "14db0442-35d4-460b-8d2f-42be0ac45571"
      },
      "execution_count": 5,
      "outputs": [
        {
          "output_type": "stream",
          "name": "stdout",
          "text": [
            "  CustomerName  AgeGroup     Spend  cluster\n",
            "0         John -1.356055 -0.480684        2\n",
            "1         Mike -1.009157 -0.010159        2\n",
            "2         Lisa -1.009157 -0.692421        1\n",
            "3         Adam -1.182606 -0.715947        1\n",
            "4          Jim  1.245679  1.401417        0\n",
            "[[ 0.98550535 -0.51205261]\n",
            " [-1.1247901  -0.74862223]\n",
            " [ 0.60143983  1.40141653]]\n"
          ]
        },
        {
          "output_type": "execute_result",
          "data": {
            "text/plain": [
              "<matplotlib.legend.Legend at 0x7f5611fa2e60>"
            ]
          },
          "metadata": {},
          "execution_count": 5
        },
        {
          "output_type": "display_data",
          "data": {
            "text/plain": [
              "<Figure size 640x480 with 1 Axes>"
            ],
            "image/png": "[encoded data removed]"
          },
          "metadata": {}
        }
      ]
    },
    {
      "cell_type": "code",
      "source": [
        "#\n",
        "# Elbow Method , The sum of Squared Errors =SSE\n",
        "# km.inertia_ - Inertia measures the sum of squared distances between data points (xi​) and their assigned cluster centroids\n",
        "#\n",
        "#\n",
        "sse = [] # The sum of Squared Errors =SSE\n",
        "k_rng = range(1,10)\n",
        "for k in k_rng:\n",
        "   km = KMeans(n_clusters=k)\n",
        "   km.fit(df[['AgeGroup','Spend']])\n",
        "   sse.append(km.inertia_)\n",
        "\n",
        "plt.xlabel('K')\n",
        "plt.ylabel('Sum of squared error')\n",
        "plt.plot(k_rng,sse)"
      ],
      "metadata": {
        "colab": {
          "base_uri": "https://localhost:8080/",
          "height": 467
        },
        "id": "8I0NaViWYsJj",
        "outputId": "3e404a98-9e13-48c0-bbc7-2062a28149a0"
      },
      "execution_count": 21,
      "outputs": [
        {
          "output_type": "execute_result",
          "data": {
            "text/plain": [
              "[<matplotlib.lines.Line2D at 0x7f8fc75f88e0>]"
            ]
          },
          "metadata": {},
          "execution_count": 21
        },
        {
          "output_type": "display_data",
          "data": {
            "text/plain": [
              "<Figure size 640x480 with 1 Axes>"
            ],
            "image/png": "[encoded data removed]"
          },
          "metadata": {}
        }
      ]
    },
    {
      "cell_type": "code",
      "source": [
        "from sklearn.metrics import silhouette_score"
      ],
      "metadata": {
        "id": "TmhkuAH0Y6Yf"
      },
      "execution_count": 6,
      "outputs": []
    },
    {
      "cell_type": "code",
      "source": [
        "silhouette_score(df[['AgeGroup','Spend']], km.fit_predict(df[['AgeGroup','Spend']]))"
      ],
      "metadata": {
        "colab": {
          "base_uri": "https://localhost:8080/"
        },
        "id": "7EvgMp9PHS-9",
        "outputId": "5ec2ca3f-3aed-426b-a5e8-1b3a64887362"
      },
      "execution_count": 7,
      "outputs": [
        {
          "output_type": "execute_result",
          "data": {
            "text/plain": [
              "0.7119890290065082"
            ]
          },
          "metadata": {},
          "execution_count": 7
        }
      ]
    },
    {
      "cell_type": "code",
      "source": [
        "# K Value Selection\n",
        "\n",
        "# 1.Domain Knowledge\n",
        "# 2.Elbow Method\n",
        "# 3.Silhouttescore"
      ],
      "metadata": {
        "id": "ebkdk9m3HcKB"
      },
      "execution_count": null,
      "outputs": []
    },
    {
      "cell_type": "code",
      "source": [],
      "metadata": {
        "id": "MS6WsJ8Evyyk"
      },
      "execution_count": null,
      "outputs": []
    },
    {
      "cell_type": "code",
      "source": [],
      "metadata": {
        "id": "6Fi2__1sv3ng"
      },
      "execution_count": null,
      "outputs": []
    }
  ]
}